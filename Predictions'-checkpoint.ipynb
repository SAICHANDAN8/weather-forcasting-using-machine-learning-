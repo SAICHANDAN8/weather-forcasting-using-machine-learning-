{
 "cells": [
  {
   "cell_type": "code",
   "execution_count": 1,
   "id": "9bfd911e",
   "metadata": {},
   "outputs": [
    {
     "name": "stderr",
     "output_type": "stream",
     "text": [
      "C:\\Users\\hp\\anaconda3\\lib\\site-packages\\scipy\\__init__.py:146: UserWarning: A NumPy version >=1.16.5 and <1.23.0 is required for this version of SciPy (detected version 1.25.2\n",
      "  warnings.warn(f\"A NumPy version >={np_minversion} and <{np_maxversion}\"\n"
     ]
    }
   ],
   "source": [
    "import pickle\n",
    "import numpy as np\n",
    "import pandas as pd\n",
    "import matplotlib.pyplot as plt\n",
    "import seaborn as sns\n",
    "import warnings\n",
    "warnings.filterwarnings(\"ignore\")\n",
    "from sklearn.ensemble import GradientBoostingRegressor"
   ]
  },
  {
   "cell_type": "code",
   "execution_count": 2,
   "id": "1310afdb",
   "metadata": {},
   "outputs": [],
   "source": [
    "gb = pickle.load(open('gradient_booster.sav', 'rb'))"
   ]
  },
  {
   "cell_type": "code",
   "execution_count": 3,
   "id": "988d39e3",
   "metadata": {},
   "outputs": [
    {
     "data": {
      "text/html": [
       "<div>\n",
       "<style scoped>\n",
       "    .dataframe tbody tr th:only-of-type {\n",
       "        vertical-align: middle;\n",
       "    }\n",
       "\n",
       "    .dataframe tbody tr th {\n",
       "        vertical-align: top;\n",
       "    }\n",
       "\n",
       "    .dataframe thead th {\n",
       "        text-align: right;\n",
       "    }\n",
       "</style>\n",
       "<table border=\"1\" class=\"dataframe\">\n",
       "  <thead>\n",
       "    <tr style=\"text-align: right;\">\n",
       "      <th></th>\n",
       "      <th>latitude</th>\n",
       "      <th>longitude</th>\n",
       "      <th>wind_kph</th>\n",
       "      <th>wind_degree</th>\n",
       "      <th>pressure_mb</th>\n",
       "      <th>precip_in</th>\n",
       "      <th>humidity</th>\n",
       "      <th>cloud</th>\n",
       "    </tr>\n",
       "  </thead>\n",
       "  <tbody>\n",
       "    <tr>\n",
       "      <th>0</th>\n",
       "      <td>11.23</td>\n",
       "      <td>78.17</td>\n",
       "      <td>5.4</td>\n",
       "      <td>298</td>\n",
       "      <td>1009.0</td>\n",
       "      <td>0.00</td>\n",
       "      <td>94</td>\n",
       "      <td>50</td>\n",
       "    </tr>\n",
       "    <tr>\n",
       "      <th>1</th>\n",
       "      <td>19.80</td>\n",
       "      <td>85.85</td>\n",
       "      <td>16.9</td>\n",
       "      <td>320</td>\n",
       "      <td>1005.0</td>\n",
       "      <td>0.00</td>\n",
       "      <td>63</td>\n",
       "      <td>50</td>\n",
       "    </tr>\n",
       "    <tr>\n",
       "      <th>2</th>\n",
       "      <td>29.98</td>\n",
       "      <td>75.38</td>\n",
       "      <td>11.5</td>\n",
       "      <td>75</td>\n",
       "      <td>1002.0</td>\n",
       "      <td>0.01</td>\n",
       "      <td>82</td>\n",
       "      <td>89</td>\n",
       "    </tr>\n",
       "    <tr>\n",
       "      <th>3</th>\n",
       "      <td>30.78</td>\n",
       "      <td>76.90</td>\n",
       "      <td>5.0</td>\n",
       "      <td>35</td>\n",
       "      <td>1005.0</td>\n",
       "      <td>0.00</td>\n",
       "      <td>67</td>\n",
       "      <td>10</td>\n",
       "    </tr>\n",
       "    <tr>\n",
       "      <th>4</th>\n",
       "      <td>15.35</td>\n",
       "      <td>76.15</td>\n",
       "      <td>17.6</td>\n",
       "      <td>252</td>\n",
       "      <td>1010.0</td>\n",
       "      <td>0.02</td>\n",
       "      <td>88</td>\n",
       "      <td>61</td>\n",
       "    </tr>\n",
       "  </tbody>\n",
       "</table>\n",
       "</div>"
      ],
      "text/plain": [
       "   latitude  longitude  wind_kph  wind_degree  pressure_mb  precip_in  \\\n",
       "0     11.23      78.17       5.4          298       1009.0       0.00   \n",
       "1     19.80      85.85      16.9          320       1005.0       0.00   \n",
       "2     29.98      75.38      11.5           75       1002.0       0.01   \n",
       "3     30.78      76.90       5.0           35       1005.0       0.00   \n",
       "4     15.35      76.15      17.6          252       1010.0       0.02   \n",
       "\n",
       "   humidity  cloud  \n",
       "0        94     50  \n",
       "1        63     50  \n",
       "2        82     89  \n",
       "3        67     10  \n",
       "4        88     61  "
      ]
     },
     "execution_count": 3,
     "metadata": {},
     "output_type": "execute_result"
    }
   ],
   "source": [
    "df = pd.read_csv('x_test.csv')\n",
    "df.head()"
   ]
  },
  {
   "cell_type": "code",
   "execution_count": null,
   "id": "84d32161",
   "metadata": {},
   "outputs": [
    {
     "name": "stdout",
     "output_type": "stream",
     "text": [
      "Enter latitude: 77\n",
      "Enter longitude: 60\n"
     ]
    }
   ],
   "source": [
    "latitude = float(input('Enter latitude: '))\n",
    "longitude = float(input('Enter longitude: '))\n",
    "wind_kph = float(input('Enter wind_kph: '))\n",
    "wind_degree = int(input('Enter wind_degree: '))\n",
    "pressure_mb = float(input('Enter pressure_mb: '))\n",
    "precip_in = float(input('Enter precip_in: '))\n",
    "humidity = float(input('Enter humidity: '))\n",
    "cloud = float(input('Enter cloud: '))\n",
    "dic = {'latitude':[latitude],'longitude':[longitude],'wind_kph':[wind_kph],'wind_degree':[wind_degree],'pressure_mb':[pressure_mb],\n",
    "      'precip_in':[precip_in],'humidity':[humidity],'cloud':[cloud]}\n",
    "tst = pd.DataFrame(dic)\n",
    "y_tst_pred = gb.predict(tst)\n",
    "print(\"Model Predicted Temperature:\",round(y_tst_pred[0],2))"
   ]
  },
  {
   "cell_type": "code",
   "execution_count": null,
   "id": "1f440970",
   "metadata": {},
   "outputs": [],
   "source": []
  },
  {
   "cell_type": "code",
   "execution_count": null,
   "id": "6794326f",
   "metadata": {},
   "outputs": [],
   "source": []
  }
 ],
 "metadata": {
  "kernelspec": {
   "display_name": "Python 3 (ipykernel)",
   "language": "python",
   "name": "python3"
  },
  "language_info": {
   "codemirror_mode": {
    "name": "ipython",
    "version": 3
   },
   "file_extension": ".py",
   "mimetype": "text/x-python",
   "name": "python",
   "nbconvert_exporter": "python",
   "pygments_lexer": "ipython3",
   "version": "3.9.7"
  }
 },
 "nbformat": 4,
 "nbformat_minor": 5
}
